{
 "cells": [
  {
   "cell_type": "code",
   "execution_count": 1,
   "id": "8e5ccf4f-2462-4501-ad86-83d34397f23f",
   "metadata": {},
   "outputs": [
    {
     "name": "stdin",
     "output_type": "stream",
     "text": [
      "Por favor digite o seu nome: TAs\n"
     ]
    }
   ],
   "source": [
    "nome_do_jogador = input ('Por favor digite o seu nome:')  # nome do jogador\n",
    "nome_do_jogador = str (nome_do_jogador)\n",
    "\n",
    "from random import randint"
   ]
  },
  {
   "cell_type": "code",
   "execution_count": 2,
   "id": "0f95abb6-8c0a-40fc-9cdc-cd0a6546327d",
   "metadata": {},
   "outputs": [],
   "source": [
    "    vida_do_jogador = int (100)       #grupo para registrar a vida do jogador\n",
    "    vida_do_computador = int (100)   #grupo para registrar a vida do computador"
   ]
  },
  {
   "cell_type": "code",
   "execution_count": 228,
   "id": "b244c02c-c478-4500-a596-4729e850237b",
   "metadata": {},
   "outputs": [
    {
     "name": "stdin",
     "output_type": "stream",
     "text": [
      "Escolha uma acao: Ataque , Defesa ou Esperar: Esperar\n"
     ]
    }
   ],
   "source": [
    "golpe = input ('Escolha uma acao: Ataque , Defesa ou Esperar:')  # Golpe escolhido pelo jogado"
   ]
  },
  {
   "cell_type": "code",
   "execution_count": 3,
   "id": "ac589681-4112-45d7-81c9-c51ee5028799",
   "metadata": {},
   "outputs": [],
   "source": [
    "\n",
    "\n",
    "def escolha_ataque_computador():\n",
    "    ''' Funcão para gerar um ataque numero aleatorio do computador e relacionar cada numero com um golpe, sendo eles: \n",
    "            1 - Ataque\n",
    "            2 - Defesa\n",
    "            3 - Esperar\n",
    "        Retorna o ataque aleatorio criado'''\n",
    "    ataque_computador = randint(1,3)\n",
    "    if ataque_computador == 1:\n",
    "        ataque_computador = str ('Ataque')\n",
    "        \n",
    "    elif ataque_computador == 2:\n",
    "        ataque_computador = ('Defesa')\n",
    "        \n",
    "    elif ataque_computador == 3:\n",
    "        ataque_computador = ('Esperar')\n",
    "        \n",
    "    return ataque_computador     "
   ]
  },
  {
   "cell_type": "code",
   "execution_count": 263,
   "id": "10741728-6bd7-4444-8e82-1e2659efa9b8",
   "metadata": {},
   "outputs": [
    {
     "data": {
      "text/plain": [
       "'Esperar'"
      ]
     },
     "execution_count": 263,
     "metadata": {},
     "output_type": "execute_result"
    }
   ],
   "source": [
    "escolha_ataque_computador()"
   ]
  },
  {
   "cell_type": "code",
   "execution_count": 229,
   "id": "9e700ac1-668e-4428-adc7-1cac6840e1cb",
   "metadata": {},
   "outputs": [
    {
     "data": {
      "text/plain": [
       "'EsperarDefesa'"
      ]
     },
     "execution_count": 229,
     "metadata": {},
     "output_type": "execute_result"
    }
   ],
   "source": [
    "golpes = golpe + escolha_ataque_computador()\n",
    "\n",
    "golpes"
   ]
  },
  {
   "cell_type": "code",
   "execution_count": 151,
   "id": "7f90f875-bd8a-4127-adfc-9b69ee242a54",
   "metadata": {},
   "outputs": [
    {
     "data": {
      "text/plain": [
       "'AtaqueDefesa'"
      ]
     },
     "execution_count": 151,
     "metadata": {},
     "output_type": "execute_result"
    }
   ],
   "source": [
    "golpes"
   ]
  },
  {
   "cell_type": "code",
   "execution_count": null,
   "id": "96ef6455-38d9-47e9-ad92-ac613d450001",
   "metadata": {},
   "outputs": [],
   "source": []
  },
  {
   "cell_type": "code",
   "execution_count": 4,
   "id": "b2fcdb59-599c-44b6-905d-15b16adc7c88",
   "metadata": {},
   "outputs": [],
   "source": [
    "def combinacao_de_ataques():    \n",
    "    global vida_do_jogador\n",
    "    global vida_do_computador\n",
    "    if golpes == 'AtaqueAtaque':    # if para a comparacao das diferentes combinacoes de ataque entre jogador e computador\n",
    "        vida_do_jogador = vida_do_jogador - 10\n",
    "        vida_do_computador = vida_do_computador - 10\n",
    "    elif golpes == 'AtaqueDefesa':\n",
    "        vida_do_jogador =  vida_do_jogador - 10\n",
    "        vida_do_computador = vida_do_computador\n",
    "    elif golpes == 'AtaqueEsperar':\n",
    "        vida_do_jogador =  vida_do_jogador\n",
    "        vida_do_computador =  vida_do_computador -10\n",
    "    elif golpes == 'DefesaAtaque':\n",
    "        vida_do_jogador = vida_do_jogador\n",
    "        vida_do_computador =  vida_do_computador -10    \n",
    "    elif golpes == 'DefesaDefesa':\n",
    "        vida_do_jogador =  vida_do_jogador\n",
    "        vida_do_computador = vida_do_computador\n",
    "    elif golpes == 'DefesaEsperar':\n",
    "        vida_do_jogador =  vida_do_jogador -10\n",
    "        vida_do_computador =  vida_do_computador\n",
    "    elif golpes == 'EsperarAtaque':\n",
    "        vida_do_jogador =  vida_do_jogador -10\n",
    "        vida_do_computador =  vida_do_computador\n",
    "    elif golpes == 'EsperarDefesa':\n",
    "        vida_do_jogador =  vida_do_jogador\n",
    "        vida_do_computador =  vida_do_computador -10    \n",
    "    elif golpes == 'EsperarEsperar':\n",
    "        vida_do_jogador =  vida_do_jogador -5\n",
    "        vida_do_computador =  vida_do_computador -5 \n",
    "        \n",
    "        \n",
    "        \n",
    "    return  (vida_do_jogador,vida_do_computador )"
   ]
  },
  {
   "cell_type": "code",
   "execution_count": 239,
   "id": "0a7be19a-cdd1-4bae-a986-0aa0c2a0be28",
   "metadata": {},
   "outputs": [],
   "source": [
    "resultado_rodada = combinacao_de_ataques()"
   ]
  },
  {
   "cell_type": "code",
   "execution_count": 232,
   "id": "2a7c81a3-2cd5-4012-a721-8b2aec40a8f7",
   "metadata": {},
   "outputs": [
    {
     "name": "stdout",
     "output_type": "stream",
     "text": [
      "Esperar\n",
      "EsperarDefesa\n"
     ]
    }
   ],
   "source": [
    "print (golpe)\n",
    "\n",
    "print(golpes)"
   ]
  },
  {
   "cell_type": "code",
   "execution_count": null,
   "id": "e4776d07-d08c-4683-878e-96d4e2765aaa",
   "metadata": {},
   "outputs": [],
   "source": []
  },
  {
   "cell_type": "code",
   "execution_count": 5,
   "id": "03e71f6a-bca0-4f68-8195-6c77b4e7eee5",
   "metadata": {},
   "outputs": [
    {
     "name": "stdin",
     "output_type": "stream",
     "text": [
      "Escolha uma acao: Ataque , Defesa ou Esperar: Ataque\n"
     ]
    },
    {
     "name": "stdout",
     "output_type": "stream",
     "text": [
      "AtaqueAtaque\n",
      "Sua vida: 90\n",
      "Vida do seu oponente: 90\n"
     ]
    },
    {
     "name": "stdin",
     "output_type": "stream",
     "text": [
      "Escolha uma acao: Ataque , Defesa ou Esperar: Ataque\n"
     ]
    },
    {
     "name": "stdout",
     "output_type": "stream",
     "text": [
      "AtaqueDefesa\n",
      "Sua vida: 80\n",
      "Vida do seu oponente: 90\n"
     ]
    },
    {
     "name": "stdin",
     "output_type": "stream",
     "text": [
      "Escolha uma acao: Ataque , Defesa ou Esperar: Ataque\n"
     ]
    },
    {
     "name": "stdout",
     "output_type": "stream",
     "text": [
      "AtaqueEsperar\n",
      "Sua vida: 80\n",
      "Vida do seu oponente: 80\n"
     ]
    },
    {
     "name": "stdin",
     "output_type": "stream",
     "text": [
      "Escolha uma acao: Ataque , Defesa ou Esperar: Ataque\n"
     ]
    },
    {
     "name": "stdout",
     "output_type": "stream",
     "text": [
      "AtaqueAtaque\n",
      "Sua vida: 70\n",
      "Vida do seu oponente: 70\n"
     ]
    },
    {
     "name": "stdin",
     "output_type": "stream",
     "text": [
      "Escolha uma acao: Ataque , Defesa ou Esperar: Ataque\n"
     ]
    },
    {
     "name": "stdout",
     "output_type": "stream",
     "text": [
      "AtaqueDefesa\n",
      "Sua vida: 60\n",
      "Vida do seu oponente: 70\n"
     ]
    },
    {
     "name": "stdin",
     "output_type": "stream",
     "text": [
      "Escolha uma acao: Ataque , Defesa ou Esperar: Ataque\n"
     ]
    },
    {
     "name": "stdout",
     "output_type": "stream",
     "text": [
      "AtaqueDefesa\n",
      "Sua vida: 50\n",
      "Vida do seu oponente: 70\n"
     ]
    },
    {
     "name": "stdin",
     "output_type": "stream",
     "text": [
      "Escolha uma acao: Ataque , Defesa ou Esperar: Ataque\n"
     ]
    },
    {
     "name": "stdout",
     "output_type": "stream",
     "text": [
      "AtaqueAtaque\n",
      "Sua vida: 40\n",
      "Vida do seu oponente: 60\n"
     ]
    },
    {
     "name": "stdin",
     "output_type": "stream",
     "text": [
      "Escolha uma acao: Ataque , Defesa ou Esperar: Ataque\n"
     ]
    },
    {
     "name": "stdout",
     "output_type": "stream",
     "text": [
      "AtaqueAtaque\n",
      "Sua vida: 30\n",
      "Vida do seu oponente: 50\n"
     ]
    },
    {
     "name": "stdin",
     "output_type": "stream",
     "text": [
      "Escolha uma acao: Ataque , Defesa ou Esperar: Ataque\n"
     ]
    },
    {
     "name": "stdout",
     "output_type": "stream",
     "text": [
      "AtaqueAtaque\n",
      "Sua vida: 20\n",
      "Vida do seu oponente: 40\n"
     ]
    },
    {
     "name": "stdin",
     "output_type": "stream",
     "text": [
      "Escolha uma acao: Ataque , Defesa ou Esperar: Ataque\n"
     ]
    },
    {
     "name": "stdout",
     "output_type": "stream",
     "text": [
      "AtaqueAtaque\n",
      "Sua vida: 10\n",
      "Vida do seu oponente: 30\n"
     ]
    },
    {
     "name": "stdin",
     "output_type": "stream",
     "text": [
      "Escolha uma acao: Ataque , Defesa ou Esperar: Ataque\n"
     ]
    },
    {
     "name": "stdout",
     "output_type": "stream",
     "text": [
      "AtaqueDefesa\n",
      "Sua vida: 0\n",
      "Vida do seu oponente: 30\n",
      "TAs Voce perdeu!\n"
     ]
    }
   ],
   "source": [
    "while vida_do_jogador > 0  and vida_do_computador > 0:\n",
    "    global golpe\n",
    "    global golpes\n",
    "    golpe = input ('Escolha uma acao: Ataque , Defesa ou Esperar:')\n",
    "\n",
    "    golpes = golpe + escolha_ataque_computador()\n",
    "    print(golpes)\n",
    "    \n",
    "    combinacao_de_ataques()\n",
    "    \n",
    "    print ('Sua vida:',vida_do_jogador)\n",
    "    print ('Vida do seu oponente:',vida_do_computador)\n",
    "    \n",
    "if vida_do_jogador == 0 and vida_do_computador == 0:\n",
    "        print ('Empate!')\n",
    "        \n",
    "elif vida_do_jogador <= 0:\n",
    "        print (nome_do_jogador,'Voce perdeu!')\n",
    "\n",
    "elif vida_do_computador <= 0:\n",
    "        print (nome_do_jogador,'Voce ganhou!')\n",
    "\n",
    "        \n",
    "        \n"
   ]
  },
  {
   "cell_type": "code",
   "execution_count": 245,
   "id": "a89efac6-441f-4130-bbe1-e98f46fe7b07",
   "metadata": {},
   "outputs": [
    {
     "name": "stdout",
     "output_type": "stream",
     "text": [
      "Sua vida: 100\n",
      "Vida do seu oponente: 100\n"
     ]
    }
   ],
   "source": [
    "print ('Sua vida:',vida_do_jogador)\n",
    "print ('Vida do seu oponente:',vida_do_computador)"
   ]
  },
  {
   "cell_type": "code",
   "execution_count": 267,
   "id": "1a829b51-7063-4ae7-b723-104a9300e09e",
   "metadata": {},
   "outputs": [],
   "source": [
    "def jogo_total():\n",
    "\n",
    "        while vida_do_jogador > 0  and vida_do_computador > 0:\n",
    "            global golpe\n",
    "            global golpes\n",
    "            golpe = input ('Escolha uma acao: Ataque , Defesa ou Esperar:')\n",
    "        \n",
    "            golpes = golpe + escolha_ataque_computador()\n",
    "            print(golpes)\n",
    "            \n",
    "            combinacao_de_ataques()\n",
    "            \n",
    "            print ('Sua vida:',vida_do_jogador)\n",
    "            print ('Vida do seu oponente:',vida_do_computador)\n",
    "            \n",
    "        if vida_do_jogador == 0 and vida_do_computador == 0:\n",
    "                print ('Empate!')\n",
    "                \n",
    "        elif vida_do_jogador <= 0:\n",
    "                print (nome_do_jogador,'Voce perdeu!')\n",
    "        \n",
    "        elif vida_do_computador <= 0:\n",
    "                print (nome_do_jogador,'Voce ganhou!')\n",
    "        \n",
    "                "
   ]
  },
  {
   "cell_type": "code",
   "execution_count": 280,
   "id": "d6186154-252b-4e85-801a-0e67f4029047",
   "metadata": {},
   "outputs": [
    {
     "name": "stdin",
     "output_type": "stream",
     "text": [
      "Escolha uma acao: Ataque , Defesa ou Esperar: Ataque\n"
     ]
    },
    {
     "name": "stdout",
     "output_type": "stream",
     "text": [
      "AtaqueDefesa\n",
      "Sua vida: 90\n",
      "Vida do seu oponente: 100\n"
     ]
    },
    {
     "name": "stdin",
     "output_type": "stream",
     "text": [
      "Escolha uma acao: Ataque , Defesa ou Esperar: Ataque\n"
     ]
    },
    {
     "name": "stdout",
     "output_type": "stream",
     "text": [
      "AtaqueDefesa\n",
      "Sua vida: 80\n",
      "Vida do seu oponente: 100\n"
     ]
    },
    {
     "name": "stdin",
     "output_type": "stream",
     "text": [
      "Escolha uma acao: Ataque , Defesa ou Esperar: Ataque\n"
     ]
    },
    {
     "name": "stdout",
     "output_type": "stream",
     "text": [
      "AtaqueDefesa\n",
      "Sua vida: 70\n",
      "Vida do seu oponente: 100\n"
     ]
    },
    {
     "name": "stdin",
     "output_type": "stream",
     "text": [
      "Escolha uma acao: Ataque , Defesa ou Esperar: Ataque\n"
     ]
    },
    {
     "name": "stdout",
     "output_type": "stream",
     "text": [
      "AtaqueAtaque\n",
      "Sua vida: 60\n",
      "Vida do seu oponente: 90\n"
     ]
    },
    {
     "name": "stdin",
     "output_type": "stream",
     "text": [
      "Escolha uma acao: Ataque , Defesa ou Esperar: Ataque\n"
     ]
    },
    {
     "name": "stdout",
     "output_type": "stream",
     "text": [
      "AtaqueEsperar\n",
      "Sua vida: 60\n",
      "Vida do seu oponente: 80\n"
     ]
    },
    {
     "name": "stdin",
     "output_type": "stream",
     "text": [
      "Escolha uma acao: Ataque , Defesa ou Esperar: Ataque\n"
     ]
    },
    {
     "name": "stdout",
     "output_type": "stream",
     "text": [
      "AtaqueEsperar\n",
      "Sua vida: 60\n",
      "Vida do seu oponente: 70\n"
     ]
    },
    {
     "name": "stdin",
     "output_type": "stream",
     "text": [
      "Escolha uma acao: Ataque , Defesa ou Esperar: Ataque\n"
     ]
    },
    {
     "name": "stdout",
     "output_type": "stream",
     "text": [
      "AtaqueAtaque\n",
      "Sua vida: 50\n",
      "Vida do seu oponente: 60\n"
     ]
    },
    {
     "name": "stdin",
     "output_type": "stream",
     "text": [
      "Escolha uma acao: Ataque , Defesa ou Esperar: Ataque\n"
     ]
    },
    {
     "name": "stdout",
     "output_type": "stream",
     "text": [
      "AtaqueDefesa\n",
      "Sua vida: 40\n",
      "Vida do seu oponente: 60\n"
     ]
    },
    {
     "name": "stdin",
     "output_type": "stream",
     "text": [
      "Escolha uma acao: Ataque , Defesa ou Esperar: Ataque\n"
     ]
    },
    {
     "name": "stdout",
     "output_type": "stream",
     "text": [
      "AtaqueEsperar\n",
      "Sua vida: 40\n",
      "Vida do seu oponente: 50\n"
     ]
    },
    {
     "name": "stdin",
     "output_type": "stream",
     "text": [
      "Escolha uma acao: Ataque , Defesa ou Esperar: Ataque\n"
     ]
    },
    {
     "name": "stdout",
     "output_type": "stream",
     "text": [
      "AtaqueEsperar\n",
      "Sua vida: 40\n",
      "Vida do seu oponente: 40\n"
     ]
    },
    {
     "name": "stdin",
     "output_type": "stream",
     "text": [
      "Escolha uma acao: Ataque , Defesa ou Esperar: Ataque\n"
     ]
    },
    {
     "name": "stdout",
     "output_type": "stream",
     "text": [
      "AtaqueEsperar\n",
      "Sua vida: 40\n",
      "Vida do seu oponente: 30\n"
     ]
    },
    {
     "name": "stdin",
     "output_type": "stream",
     "text": [
      "Escolha uma acao: Ataque , Defesa ou Esperar: Ataque\n"
     ]
    },
    {
     "name": "stdout",
     "output_type": "stream",
     "text": [
      "AtaqueAtaque\n",
      "Sua vida: 30\n",
      "Vida do seu oponente: 20\n"
     ]
    },
    {
     "name": "stdin",
     "output_type": "stream",
     "text": [
      "Escolha uma acao: Ataque , Defesa ou Esperar: Ataque\n"
     ]
    },
    {
     "name": "stdout",
     "output_type": "stream",
     "text": [
      "AtaqueDefesa\n",
      "Sua vida: 20\n",
      "Vida do seu oponente: 20\n"
     ]
    },
    {
     "name": "stdin",
     "output_type": "stream",
     "text": [
      "Escolha uma acao: Ataque , Defesa ou Esperar: Ataque\n"
     ]
    },
    {
     "name": "stdout",
     "output_type": "stream",
     "text": [
      "AtaqueAtaque\n",
      "Sua vida: 10\n",
      "Vida do seu oponente: 10\n"
     ]
    },
    {
     "name": "stdin",
     "output_type": "stream",
     "text": [
      "Escolha uma acao: Ataque , Defesa ou Esperar: Ataque\n"
     ]
    },
    {
     "name": "stdout",
     "output_type": "stream",
     "text": [
      "AtaqueDefesa\n",
      "Sua vida: 0\n",
      "Vida do seu oponente: 10\n"
     ]
    }
   ],
   "source": [
    "jogo = jogo_total()"
   ]
  },
  {
   "cell_type": "code",
   "execution_count": 279,
   "id": "b289fe56-138f-4695-be3a-83b81c1b3c7e",
   "metadata": {},
   "outputs": [
    {
     "data": {
      "text/plain": [
       "('GRIEL', 'Voce ganhou!')"
      ]
     },
     "execution_count": 279,
     "metadata": {},
     "output_type": "execute_result"
    }
   ],
   "source": [
    "jogo"
   ]
  },
  {
   "cell_type": "code",
   "execution_count": null,
   "id": "ecc5fe4d-17f2-413c-862c-999ed376cb36",
   "metadata": {},
   "outputs": [],
   "source": []
  }
 ],
 "metadata": {
  "kernelspec": {
   "display_name": "Python 3 (ipykernel)",
   "language": "python",
   "name": "python3"
  },
  "language_info": {
   "codemirror_mode": {
    "name": "ipython",
    "version": 3
   },
   "file_extension": ".py",
   "mimetype": "text/x-python",
   "name": "python",
   "nbconvert_exporter": "python",
   "pygments_lexer": "ipython3",
   "version": "3.9.7"
  }
 },
 "nbformat": 4,
 "nbformat_minor": 5
}
