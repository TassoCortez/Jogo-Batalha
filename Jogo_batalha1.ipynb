{
 "cells": [
  {
   "cell_type": "code",
   "execution_count": 71,
   "id": "8e5ccf4f-2462-4501-ad86-83d34397f23f",
   "metadata": {},
   "outputs": [
    {
     "name": "stdin",
     "output_type": "stream",
     "text": [
      "Por favor digite o seu nome: TAsso\n"
     ]
    }
   ],
   "source": [
    "nome_do_jogador = input ('Por favor digite o seu nome:')  # nome do jogador\n",
    "nome_do_jogador = str (nome_do_jogador)\n",
    "\n",
    "vida_do_jogador = int (100)       #grupo para registrar a vida do jogador\n",
    "vida_do_computador = int (100)   # grupo para registrar a vida do computador\n",
    "\n",
    "from random import randint"
   ]
  },
  {
   "cell_type": "code",
   "execution_count": 55,
   "id": "b244c02c-c478-4500-a596-4729e850237b",
   "metadata": {},
   "outputs": [
    {
     "name": "stdin",
     "output_type": "stream",
     "text": [
      "Escolha uma acao: Ataque , Defesa ou Esperar: Ataque\n"
     ]
    }
   ],
   "source": [
    "golpe = input ('Escolha uma acao: Ataque , Defesa ou Esperar:')  # Golpe escolhido pelo jogado"
   ]
  },
  {
   "cell_type": "code",
   "execution_count": 47,
   "id": "ac589681-4112-45d7-81c9-c51ee5028799",
   "metadata": {},
   "outputs": [],
   "source": [
    "\n",
    "\n",
    "def escolha_ataque_computador():\n",
    "    ''' Funcão para gerar um ataque numero aleatorio do computador e relacionar cada numero com um golpe, sendo eles: \n",
    "            1 - Ataque\n",
    "            2 - Defesa\n",
    "            3 - Esperar\n",
    "        Retorna o ataque aleatorio criado'''\n",
    "    ataque_computador = randint(1,3)\n",
    "    if ataque_computador == 1:\n",
    "        ataque_computador = str ('Ataque')\n",
    "        \n",
    "    elif ataque_computador == 2:\n",
    "        ataque_computador = ('Defesa')\n",
    "        \n",
    "    elif ataque_computador == 3:\n",
    "        ataque_computador = ('Esperar')\n",
    "    return ataque_computador     "
   ]
  },
  {
   "cell_type": "code",
   "execution_count": null,
   "id": "e97f4131-84e3-433a-82f8-c194a2eb2e97",
   "metadata": {},
   "outputs": [],
   "source": []
  },
  {
   "cell_type": "code",
   "execution_count": 12,
   "id": "9e700ac1-668e-4428-adc7-1cac6840e1cb",
   "metadata": {},
   "outputs": [
    {
     "data": {
      "text/plain": [
       "'AtaqueAtaque'"
      ]
     },
     "execution_count": 12,
     "metadata": {},
     "output_type": "execute_result"
    }
   ],
   "source": [
    "golpes = golpe + escolha_ataque_computador()\n",
    "\n",
    "golpes"
   ]
  },
  {
   "cell_type": "code",
   "execution_count": 13,
   "id": "7f90f875-bd8a-4127-adfc-9b69ee242a54",
   "metadata": {},
   "outputs": [
    {
     "data": {
      "text/plain": [
       "'AtaqueAtaque'"
      ]
     },
     "execution_count": 13,
     "metadata": {},
     "output_type": "execute_result"
    }
   ],
   "source": [
    "golpes"
   ]
  },
  {
   "cell_type": "code",
   "execution_count": 61,
   "id": "b2fcdb59-599c-44b6-905d-15b16adc7c88",
   "metadata": {},
   "outputs": [],
   "source": [
    "def combinacao_de_ataques():    \n",
    "    global vida_do_jogador\n",
    "    global vida_do_computador\n",
    "    if golpes == 'AtaqueAtaque':    # if para a comparacao das diferentes combinacoes de ataque entre jogador e computador\n",
    "        vida_do_jogador = vida_do_jogador - 10\n",
    "        vida_do_computador = vida_do_computador - 10\n",
    "    elif golpes == 'AtaqueDefesa':\n",
    "        vida_do_jogador =  vida_do_jogador - 10\n",
    "        vida_do_computador = vida_do_computador\n",
    "    elif golpes == 'AtaqueEsperar':\n",
    "        vida_do_jogador =  vida_do_jogador\n",
    "        vida_do_computador =  vida_do_computador -10\n",
    "    elif golpes == 'DefesaAtaque':\n",
    "        vida_do_jogador = vida_do_jogador\n",
    "        vida_do_computador =  vida_do_computador -10    \n",
    "    elif golpes == 'DefesaDefesa':\n",
    "        vida_do_jogador =  vida_do_jogador\n",
    "        vida_do_computador = vida_do_computador\n",
    "    elif golpes == 'DefesaEsperar':\n",
    "        vida_do_jogador =  vida_do_jogador -10\n",
    "        vida_do_computador =  vida_do_computador\n",
    "    elif golpes == 'EsperarAtaque':\n",
    "        vida_do_jogador =  vida_do_jogador -10\n",
    "        vida_do_computador =  vida_do_computador\n",
    "    elif golpes == 'EsperarDefesa':\n",
    "        vida_do_jogador =  vida_do_jogador\n",
    "        vida_do_computador =  vida_do_computador -10    \n",
    "    elif golpes == 'EsperarEsperar':\n",
    "        vida_do_jogador =  vida_do_jogador -5\n",
    "        vida_do_computador =  vida_do_computador -5 \n",
    "        \n",
    "        \n",
    "    else: \n",
    "        print('Por favor digite o ataque selecionado.')\n",
    "        \n",
    "        \n",
    "    return  ('Sua vida é:',vida_do_jogador,'\\n''A vida do seu inimigo é:',vida_do_computador )"
   ]
  },
  {
   "cell_type": "code",
   "execution_count": 66,
   "id": "0a7be19a-cdd1-4bae-a986-0aa0c2a0be28",
   "metadata": {},
   "outputs": [],
   "source": [
    "resultado_rodada = combinacao_de_ataques()\n",
    "\n"
   ]
  },
  {
   "cell_type": "code",
   "execution_count": null,
   "id": "03e71f6a-bca0-4f68-8195-6c77b4e7eee5",
   "metadata": {},
   "outputs": [],
   "source": [
    "while vida_do_jogador >= 0  or vida_do_computador >= 0:\n",
    "    global golpe = input ('Escolha uma acao: Ataque , Defesa ou Esperar:')\n",
    "    resultado_rodada = combinacao_de_ataques()\n",
    "    print ('Sua vida:',vida_do_jogador)\n",
    "    print ('Vida do seu oponente:',vida_do_computador)  \n",
    "    "
   ]
  },
  {
   "cell_type": "code",
   "execution_count": 70,
   "id": "a89efac6-441f-4130-bbe1-e98f46fe7b07",
   "metadata": {},
   "outputs": [
    {
     "name": "stdout",
     "output_type": "stream",
     "text": [
      "Sua vida: 60\n",
      "Vida do seu oponente: 60\n"
     ]
    }
   ],
   "source": [
    "print ('Sua vida:',vida_do_jogador)\n",
    "print ('Vida do seu oponente:',vida_do_computador)"
   ]
  },
  {
   "cell_type": "code",
   "execution_count": null,
   "id": "4529dc06-1f57-4e11-81ab-79a2794542b5",
   "metadata": {},
   "outputs": [],
   "source": []
  }
 ],
 "metadata": {
  "kernelspec": {
   "display_name": "Python 3 (ipykernel)",
   "language": "python",
   "name": "python3"
  },
  "language_info": {
   "codemirror_mode": {
    "name": "ipython",
    "version": 3
   },
   "file_extension": ".py",
   "mimetype": "text/x-python",
   "name": "python",
   "nbconvert_exporter": "python",
   "pygments_lexer": "ipython3",
   "version": "3.9.7"
  }
 },
 "nbformat": 4,
 "nbformat_minor": 5
}
