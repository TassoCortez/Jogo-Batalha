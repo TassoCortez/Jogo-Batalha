{
 "cells": [
  {
   "cell_type": "code",
   "execution_count": 19,
   "id": "ac78c5cc-48d9-4246-ab88-fa1923362f40",
   "metadata": {},
   "outputs": [
    {
     "name": "stdin",
     "output_type": "stream",
     "text": [
      "Por favor digite o seu nome: Tasso\n"
     ]
    }
   ],
   "source": [
    "nome_do_jogador = input ('Por favor digite o seu nome:')  # nome do jogador\n",
    "nome_do_jogador = str (nome_do_jogador)\n",
    "\n",
    "from random import randint\n",
    "\n",
    "vida_do_jogador = int (100)       #grupo para registrar a vida do jogador\n",
    "vida_do_computador = int (10)   #grupo para registrar a vida do computador"
   ]
  },
  {
   "cell_type": "code",
   "execution_count": 20,
   "id": "56878850-9c20-47ca-a61c-be37f1827732",
   "metadata": {},
   "outputs": [],
   "source": [
    "def escolha_ataque_computador():\n",
    "    ''' Funcão para gerar um ataque numero aleatorio do computador e relacionar cada numero com um golpe, sendo eles: \n",
    "            1 - Ataque\n",
    "            2 - Defesa\n",
    "            3 - Esperar\n",
    "        Retorna o ataque aleatorio criado'''\n",
    "    ataque_computador = randint(1,3)\n",
    "    if ataque_computador == 1:\n",
    "        ataque_computador = str ('Ataque')\n",
    "        \n",
    "    elif ataque_computador == 2:\n",
    "        ataque_computador = ('Defesa')\n",
    "        \n",
    "    elif ataque_computador == 3:\n",
    "        ataque_computador = ('Esperar')\n",
    "        \n",
    "    return ataque_computador "
   ]
  },
  {
   "cell_type": "code",
   "execution_count": 21,
   "id": "2161c70c-5635-4576-aec5-e277d7bd37de",
   "metadata": {},
   "outputs": [],
   "source": [
    "def combinacao_de_ataques():\n",
    "    '''Funcao para comparar acao do jogador e ação do computador, de acordo com a combinação,  subtrai da variavel global ida_do_jogador ou vida_do_computador o valor estipulado\n",
    "    Exemplo: Jogador  - Ataque\n",
    "            Computador  - Ataque\n",
    "            vida_do_jogador = vida_do_jogador - 10 \n",
    "            vida_do_computador = vida_do_computador - 10\n",
    "    \n",
    "    '''\n",
    "    global vida_do_jogador\n",
    "    global vida_do_computador\n",
    "    if golpes == 'AtaqueAtaque':    # if para a comparacao das diferentes combinacoes de ataque entre jogador e computador\n",
    "        vida_do_jogador = vida_do_jogador - 10\n",
    "        vida_do_computador = vida_do_computador - 10\n",
    "    elif golpes == 'AtaqueDefesa':\n",
    "        vida_do_jogador =  vida_do_jogador - 10\n",
    "        vida_do_computador = vida_do_computador\n",
    "    elif golpes == 'AtaqueEsperar':\n",
    "        vida_do_jogador =  vida_do_jogador\n",
    "        vida_do_computador =  vida_do_computador -10\n",
    "    elif golpes == 'DefesaAtaque':\n",
    "        vida_do_jogador = vida_do_jogador\n",
    "        vida_do_computador =  vida_do_computador -10    \n",
    "    elif golpes == 'DefesaDefesa':\n",
    "        vida_do_jogador =  vida_do_jogador\n",
    "        vida_do_computador = vida_do_computador\n",
    "    elif golpes == 'DefesaEsperar':\n",
    "        vida_do_jogador =  vida_do_jogador -10\n",
    "        vida_do_computador =  vida_do_computador\n",
    "    elif golpes == 'EsperarAtaque':\n",
    "        vida_do_jogador =  vida_do_jogador -10\n",
    "        vida_do_computador =  vida_do_computador\n",
    "    elif golpes == 'EsperarDefesa':\n",
    "        vida_do_jogador =  vida_do_jogador\n",
    "        vida_do_computador =  vida_do_computador -10    \n",
    "    elif golpes == 'EsperarEsperar':\n",
    "        vida_do_jogador =  vida_do_jogador -5\n",
    "        vida_do_computador =  vida_do_computador -5 \n",
    "        \n",
    "        \n",
    "        \n",
    "    return  (vida_do_jogador,vida_do_computador )\n"
   ]
  },
  {
   "cell_type": "code",
   "execution_count": 38,
   "id": "565e1f87-700f-4408-b381-61f8f4bc71c1",
   "metadata": {},
   "outputs": [],
   "source": [
    "\n",
    "def jogo_total():\n",
    "    \n",
    "''' Funcao que escolhe a variavel golpe, junta com o retorno da função escolha_ataque_computador. \n",
    "Com o resultado obtido (golpe+escolha_ataque_computador),roda a função combinacao_de_ataques(). \n",
    "Quando o valor de vida_do_jogador ou vida_do_computador chega a 0, pergunta se o jogador quer jogar novammente. Caso Sim ela roda a função jogo_total novamente  '''\n",
    "        global vida_do_jogador\n",
    "        global vida_do_computador\n",
    "        while vida_do_jogador > 0  and vida_do_computador > 0:\n",
    "            global golpe\n",
    "            global golpes\n",
    "            golpe = input ('Escolha uma acao: Ataque , Defesa ou Esperar:')\n",
    "        \n",
    "            golpes = golpe + escolha_ataque_computador()   \n",
    "            print(golpes)\n",
    "            \n",
    "            combinacao_de_ataques()\n",
    "            \n",
    "            print ('Sua vida:',vida_do_jogador)\n",
    "            print ('Vida do seu oponente:',vida_do_computador)\n",
    "            \n",
    "        if vida_do_jogador == 0 and vida_do_computador == 0:        # if para controlar quando a vida do jogador e do computador chegam a \n",
    "                print ('Empate!')\n",
    "                jogo_novamente = input ('Jogar novamente?:Sim ou Não')\n",
    "                if jogo_novamente == 'Sim':                      # if para caso o jogar digite Sim para jogar novamente, coloca o valor de vida_do_jogador e vida_do_computador em 100 e reinicia o jogo\n",
    "                    vida_do_jogador = int (100)   \n",
    "                    vida_do_computador = int (100)\n",
    "                    jogo_total()\n",
    "                else:\n",
    "                    print ('Obrigado por jogar.')\n",
    "                    return\n",
    "                \n",
    "        elif vida_do_jogador <= 0:                               # if para controlar quando a vida do jogar chega a 0\n",
    "                print (nome_do_jogador,'Voce perdeu!')\n",
    "                jogo_novamente = input ('Jogar novamente?: Sim ou Não')\n",
    "                \n",
    "                if jogo_novamente == 'Sim':                      # if para caso o jogar digite Sim para jogar novamente, coloca o valor de vida_do_jogador e vida_do_computador em 100 e reinicia o jogo\n",
    "                    vida_do_jogador = int (100)   \n",
    "                    vida_do_computador = int (100)\n",
    "                    jogo_total()\n",
    "                else:\n",
    "                    print ('Obrigado por jogar.')\n",
    "                    return  \n",
    "                                                  \n",
    "              \n",
    "        elif vida_do_computador <= 0:                        # if para controlar quando a vida do computador chega a 0\n",
    "                print (nome_do_jogador,'Voce ganhou!')                \n",
    "                jogo_novamente = input ('Jogar novamente?:Sim ou Não')\n",
    "                jogo_novamente = str (jogo_novamente)\n",
    "                 \n",
    "                if jogo_novamente == 'Sim':                      # if para caso o jogar digite Sim para jogar novamente, coloca o valor de vida_do_jogador e vida_do_computador em 100 e reinicia o jogo\n",
    "                    vida_do_jogador = int (100)   \n",
    "                    vida_do_computador = int (100)\n",
    "                    jogo_total()\n",
    "                else:\n",
    "                    print ('Obrigado por jogar.')\n",
    "                    return "
   ]
  },
  {
   "cell_type": "code",
   "execution_count": 43,
   "id": "cc1fcf49-4c4f-482b-8b9f-1e591ebe6a5f",
   "metadata": {},
   "outputs": [
    {
     "name": "stdout",
     "output_type": "stream",
     "text": [
      "Tasso Voce perdeu!\n"
     ]
    },
    {
     "name": "stdin",
     "output_type": "stream",
     "text": [
      "Jogar novamente?: nao\n"
     ]
    },
    {
     "name": "stdout",
     "output_type": "stream",
     "text": [
      "Obrigado por jogar.\n"
     ]
    }
   ],
   "source": [
    "jogo_total()"
   ]
  },
  {
   "cell_type": "code",
   "execution_count": null,
   "id": "9bf9f51f-7c68-4cfd-a968-287d05b10e5c",
   "metadata": {},
   "outputs": [],
   "source": []
  },
  {
   "cell_type": "code",
   "execution_count": null,
   "id": "b892d06a-64be-4ebd-a37a-aa839f25f841",
   "metadata": {},
   "outputs": [],
   "source": []
  },
  {
   "cell_type": "code",
   "execution_count": null,
   "id": "330b7238-d9cc-474b-8269-817dd2e0978f",
   "metadata": {},
   "outputs": [],
   "source": []
  }
 ],
 "metadata": {
  "kernelspec": {
   "display_name": "Python 3 (ipykernel)",
   "language": "python",
   "name": "python3"
  },
  "language_info": {
   "codemirror_mode": {
    "name": "ipython",
    "version": 3
   },
   "file_extension": ".py",
   "mimetype": "text/x-python",
   "name": "python",
   "nbconvert_exporter": "python",
   "pygments_lexer": "ipython3",
   "version": "3.9.7"
  }
 },
 "nbformat": 4,
 "nbformat_minor": 5
}
